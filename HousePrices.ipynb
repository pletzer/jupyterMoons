{
 "cells": [
  {
   "cell_type": "markdown",
   "metadata": {},
   "source": [
    "# Residential property sales (2015-16)"
   ]
  },
  {
   "cell_type": "code",
   "execution_count": 9,
   "metadata": {
    "collapsed": false
   },
   "outputs": [],
   "source": [
    "import pandas\n",
    "data16 = pandas.read_excel('http://www.bouldercounty.org/doc/assessor/rec2016residential.xls')"
   ]
  },
  {
   "cell_type": "code",
   "execution_count": 10,
   "metadata": {
    "collapsed": true
   },
   "outputs": [],
   "source": [
    "data15 = pandas.read_excel('http://www.bouldercounty.org/doc/assessor/rec2015residential.xls')"
   ]
  },
  {
   "cell_type": "code",
   "execution_count": 19,
   "metadata": {
    "collapsed": false
   },
   "outputs": [],
   "source": [
    "data = pandas.concat([data15, data16])\n"
   ]
  },
  {
   "cell_type": "code",
   "execution_count": 21,
   "metadata": {
    "collapsed": false
   },
   "outputs": [
    {
     "data": {
      "text/plain": [
       "(7790, 7069, 721)"
      ]
     },
     "execution_count": 21,
     "metadata": {},
     "output_type": "execute_result"
    }
   ],
   "source": [
    "len(data['SALE_PRICE']), len(data15['SALE_PRICE']), len(data16['SALE_PRICE'])"
   ]
  },
  {
   "cell_type": "markdown",
   "metadata": {},
   "source": [
    "## Statistics\n"
   ]
  },
  {
   "cell_type": "code",
   "execution_count": 22,
   "metadata": {
    "collapsed": false
   },
   "outputs": [
    {
     "name": "stdout",
     "output_type": "stream",
     "text": [
      "Number of properties: 7790\n",
      " US$ min:       1 avrg:  486687  median  385000 max 6300000\n"
     ]
    }
   ],
   "source": [
    "salePrices = data['SALE_PRICE']\n",
    "print('Number of properties: {2:d}\\n US$ min: {3:7.0f} avrg: {0:7.0f}  median {1:7.0f} max {4:7.0f}'.format(salePrices.mean(), salePrices.median(), len(salePrices), salePrices.min(), salePrices.max()))"
   ]
  },
  {
   "cell_type": "markdown",
   "metadata": {},
   "source": [
    "## Statistics for ZIP 80304"
   ]
  },
  {
   "cell_type": "code",
   "execution_count": 30,
   "metadata": {
    "collapsed": false
   },
   "outputs": [
    {
     "name": "stdout",
     "output_type": "stream",
     "text": [
      "Number of properties: 678\n",
      " US$ min:    1000 avrg:  675673  median  600500 max 4495000\n"
     ]
    }
   ],
   "source": [
    "data80304 = data[data['ZIPCODE'] == 80304]\n",
    "salePrices80304 = data80304['SALE_PRICE']\n",
    "print('Number of properties: {2:d}\\n US$ min: {3:7.0f} avrg: {0:7.0f}  median {1:7.0f} max {4:7.0f}'.format(salePrices80304.mean(), salePrices80304.median(), len(salePrices80304), salePrices80304.min(), salePrices80304.max()))"
   ]
  },
  {
   "cell_type": "markdown",
   "metadata": {},
   "source": [
    "## Price vs date of sale (ZIP 80304) for houses between 2000 - 3000 sqft"
   ]
  },
  {
   "cell_type": "code",
   "execution_count": 177,
   "metadata": {
    "collapsed": false
   },
   "outputs": [],
   "source": [
    "%matplotlib inline\n",
    "from matplotlib import pyplot\n",
    "dataFiltered = data80304[2000 < data80304['ABOVE_GROUND_SQFT']]\n",
    "dataFiltered = dataFiltered[dataFiltered['ABOVE_GROUND_SQFT'] < 3000]\n",
    "# remove very low and high prices\n",
    "dataFiltered = dataFiltered[dataFiltered['SALE_PRICE'] > 500000]\n",
    "dataFiltered = dataFiltered[dataFiltered['SALE_PRICE'] < 1200000]\n",
    "dates, prices = dataFiltered['SALE_DATE'], dataFiltered['SALE_PRICE']"
   ]
  },
  {
   "cell_type": "code",
   "execution_count": 178,
   "metadata": {
    "collapsed": false
   },
   "outputs": [
    {
     "name": "stdout",
     "output_type": "stream",
     "text": [
      "77\n"
     ]
    }
   ],
   "source": [
    "print(len(prices))"
   ]
  },
  {
   "cell_type": "code",
   "execution_count": 179,
   "metadata": {
    "collapsed": false
   },
   "outputs": [],
   "source": [
    "import numpy\n",
    "# convert to days\n",
    "x = numpy.array([(d - dates.min()).days for d in dates])"
   ]
  },
  {
   "cell_type": "code",
   "execution_count": 180,
   "metadata": {
    "collapsed": false
   },
   "outputs": [
    {
     "name": "stdout",
     "output_type": "stream",
     "text": [
      "[ 206.10220469] 855715.584881\n"
     ]
    }
   ],
   "source": [
    "from sklearn import linear_model\n",
    "regr = linear_model.LinearRegression()\n",
    "regr.fit(x.reshape(-1,1), prices)\n",
    "print(regr.coef_, regr.intercept_)"
   ]
  },
  {
   "cell_type": "code",
   "execution_count": 181,
   "metadata": {
    "collapsed": false
   },
   "outputs": [
    {
     "data": {
      "text/plain": [
       "[<matplotlib.lines.Line2D at 0x11dcd89e8>]"
      ]
     },
     "execution_count": 181,
     "metadata": {},
     "output_type": "execute_result"
    },
    {
     "data": {
      "image/png": "[encoded data removed]",
      "text/plain": [
       "<matplotlib.figure.Figure at 0x11df09780>"
      ]
     },
     "metadata": {},
     "output_type": "display_data"
    }
   ],
   "source": [
    "pyplot.plot(dates, prices,  'bo')\n",
    "xLine = [dates.min(), dates.max()]\n",
    "yLine = [regr.intercept_ + x.min()*regr.coef_, regr.intercept_ + x.max()*regr.coef_]\n",
    "pyplot.plot(xLine, yLine, 'r-', linewidth=3)\n"
   ]
  },
  {
   "cell_type": "markdown",
   "metadata": {},
   "source": [
    "## Price vs footage"
   ]
  },
  {
   "cell_type": "code",
   "execution_count": 182,
   "metadata": {
    "collapsed": false
   },
   "outputs": [
    {
     "name": "stdout",
     "output_type": "stream",
     "text": [
      "[ 166.80042836] 496527.331354\n"
     ]
    }
   ],
   "source": [
    "footage = dataFiltered['ABOVE_GROUND_SQFT']\n",
    "regr = linear_model.LinearRegression()\n",
    "regr.fit(footage.reshape(-1,1), prices)\n",
    "print(regr.coef_, regr.intercept_)"
   ]
  },
  {
   "cell_type": "code",
   "execution_count": 183,
   "metadata": {
    "collapsed": false
   },
   "outputs": [
    {
     "data": {
      "text/plain": [
       "[<matplotlib.lines.Line2D at 0x11d9f9c18>]"
      ]
     },
     "execution_count": 183,
     "metadata": {},
     "output_type": "execute_result"
    },
    {
     "data": {
      "image/png": "[encoded data removed]",
      "text/plain": [
       "<matplotlib.figure.Figure at 0x11d9f9a20>"
      ]
     },
     "metadata": {},
     "output_type": "display_data"
    }
   ],
   "source": [
    "pyplot.plot(footage, prices,  'co')\n",
    "xLine = [footage.min(), footage.max()]\n",
    "yLine = [regr.intercept_ + footage.min()*regr.coef_, regr.intercept_ + footage.max()*regr.coef_]\n",
    "pyplot.plot(xLine, yLine, 'r-', linewidth=3)\n"
   ]
  }
 ],
 "metadata": {
  "kernelspec": {
   "display_name": "Python 3",
   "language": "python",
   "name": "python3"
  },
  "language_info": {
   "codemirror_mode": {
    "name": "ipython",
    "version": 3
   },
   "file_extension": ".py",
   "mimetype": "text/x-python",
   "name": "python",
   "nbconvert_exporter": "python",
   "pygments_lexer": "ipython3",
   "version": "3.5.1"
  }
 },
 "nbformat": 4,
 "nbformat_minor": 0
}
