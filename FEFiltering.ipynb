{
 "cells": [
  {
   "cell_type": "markdown",
   "metadata": {},
   "source": [
    "# Applying a $$-d^2 / dx^2$$ filter to a 1D signal"
   ]
  },
  {
   "cell_type": "code",
   "execution_count": 3,
   "metadata": {
    "collapsed": false
   },
   "outputs": [],
   "source": [
    "from scipy.sparse import dok_matrix # sparse matrices\n",
    "from scipy.sparse import linalg\n",
    "import numpy"
   ]
  },
  {
   "cell_type": "markdown",
   "metadata": {},
   "source": [
    "Domain is [0, 1] and n is the number of intervals"
   ]
  },
  {
   "cell_type": "code",
   "execution_count": 4,
   "metadata": {
    "collapsed": true
   },
   "outputs": [],
   "source": [
    "n = 10\n",
    "xmin, xmax = 0., 1.\n",
    "h = (xmax - xmin)/float(n)\n",
    "xs = numpy.linspace(xmin, xmax, n + 1)"
   ]
  },
  {
   "cell_type": "markdown",
   "metadata": {},
   "source": [
    "Finite element matrices with zero derivative boundary conditions at x = 0 and x = 1"
   ]
  },
  {
   "cell_type": "code",
   "execution_count": 9,
   "metadata": {
    "collapsed": false
   },
   "outputs": [],
   "source": [
    "deriv2 = dok_matrix((n + 1, n + 1), numpy.float64) # (grad phi, grad phi)\n",
    "ident = dok_matrix((n + 1, n + 1), numpy.float64) # (phi, phi)\n",
    "# fill in the interior cells\n",
    "for i in range(1, n):\n",
    "    deriv2[i, i] = 2.0/h\n",
    "    deriv2[i, i - 1] = -1.0/h\n",
    "    deriv2[i, i + 1] = -1.0/h\n",
    "    ident[i, i] = 2*h/3.\n",
    "    ident[i, i - 1] = h/6.\n",
    "    ident[i, i + 1] = h/6.\n",
    "# boundary cells\n",
    "deriv2[0, 0] = 1.0/h\n",
    "deriv2[0, 1] = -1.0/h\n",
    "ident[0, 0] = h/3.\n",
    "ident[0, 1] = h/6.\n",
    "deriv2[n, n] = 1.0/h\n",
    "deriv2[n, n - 1] = -1.0/h\n",
    "ident[n, n] = h/3.\n",
    "ident[n, n - 1] = h/6."
   ]
  },
  {
   "cell_type": "markdown",
   "metadata": {},
   "source": [
    "Solve linear system ident * u = deriv2 * u with "
   ]
  },
  {
   "cell_type": "code",
   "execution_count": 15,
   "metadata": {
    "collapsed": false
   },
   "outputs": [
    {
     "name": "stderr",
     "output_type": "stream",
     "text": [
      "C:\\Users\\pletzera\\AppData\\Local\\Continuum\\Anaconda3\\lib\\site-packages\\scipy\\sparse\\linalg\\dsolve\\linsolve.py:96: SparseEfficiencyWarning: spsolve requires A be CSC or CSR matrix format\n",
      "  SparseEfficiencyWarning)\n"
     ]
    }
   ],
   "source": [
    "u = numpy.cos(numpy.pi*xs)\n",
    "rhs = deriv2 * u\n",
    "vfe = linalg.spsolve(ident, rhs)\n",
    "vfd = rhs/h\n",
    "vexact = numpy.pi**2 * numpy.cos(numpy.pi*xs)"
   ]
  },
  {
   "cell_type": "code",
   "execution_count": 16,
   "metadata": {
    "collapsed": false
   },
   "outputs": [
    {
     "data": {
      "text/plain": [
       "<matplotlib.legend.Legend at 0x8a63780>"
      ]
     },
     "execution_count": 16,
     "metadata": {},
     "output_type": "execute_result"
    },
    {
     "data": {
      "image/png": "[encoded data removed]",
      "text/plain": [
       "<matplotlib.figure.Figure at 0x8a63278>"
      ]
     },
     "metadata": {},
     "output_type": "display_data"
    }
   ],
   "source": [
    "%matplotlib inline\n",
    "from matplotlib import pylab\n",
    "pylab.plot(xs, vexact, 'b-', xs, vfd, 'c--', xs, vfe, 'm--')\n",
    "pylab.xlabel('x')\n",
    "pylab.ylabel('-d^u/dx^2')\n",
    "pylab.legend(['exact', 'FD', 'FE'])"
   ]
  },
  {
   "cell_type": "code",
   "execution_count": 19,
   "metadata": {
    "collapsed": false
   },
   "outputs": [
    {
     "data": {
      "text/plain": [
       "<matplotlib.legend.Legend at 0x8b44080>"
      ]
     },
     "execution_count": 19,
     "metadata": {},
     "output_type": "execute_result"
    },
    {
     "data": {
      "image/png": "[encoded data removed]",
      "text/plain": [
       "<matplotlib.figure.Figure at 0x8b44e10>"
      ]
     },
     "metadata": {},
     "output_type": "display_data"
    }
   ],
   "source": [
    "pylab.plot(xs[1:-1], vfd[1:-1] - vexact[1:-1], 'c--', xs[1:-1], vfe[1:-1] - vexact[1:-1], 'm--')\n",
    "pylab.xlabel('x')\n",
    "pylab.ylabel('error')\n",
    "pylab.legend(['FD', 'FE'])"
   ]
  },
  {
   "cell_type": "markdown",
   "metadata": {},
   "source": [
    "## Bottom line\n",
    "\n",
    " 1. The finite element method works well for filtering problems, ie applying derivative operators to an input signal\n",
    " 2. Finite element (FE) and finite difference (FD) differ in that the former involves computing a discretized version of the identity operator. This then involves solving a linear system. The matrix to invert is symmatric, with a dominant diagonal and well conditioned, no negative eigenvalues. The FD method does not require a matrix solve but will only work for a uniform mesh.\n",
    " 3. Zero fluxes boundary conditions are straighforward to implement in FE. In the FD case the BCs are not quite correct; they correspond to zero drivate being applied on the ghost cells (h/2 outside the domain). Hence, there is significant error at the boundaries. \n",
    " 4. The FE and FD errors are comparable but of ooposite sign, suggesting that the best identity discretization involves mixing the FE and FD identities."
   ]
  },
  {
   "cell_type": "code",
   "execution_count": null,
   "metadata": {
    "collapsed": true
   },
   "outputs": [],
   "source": []
  }
 ],
 "metadata": {
  "kernelspec": {
   "display_name": "Python 3",
   "language": "python",
   "name": "python3"
  },
  "language_info": {
   "codemirror_mode": {
    "name": "ipython",
    "version": 3
   },
   "file_extension": ".py",
   "mimetype": "text/x-python",
   "name": "python",
   "nbconvert_exporter": "python",
   "pygments_lexer": "ipython3",
   "version": "3.5.1"
  }
 },
 "nbformat": 4,
 "nbformat_minor": 0
}
