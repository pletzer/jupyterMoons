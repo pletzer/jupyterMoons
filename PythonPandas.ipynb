{
 "cells": [
  {
   "cell_type": "markdown",
   "metadata": {},
   "source": [
    "# Python for data analysis\n",
    "\n",
    "In this notebook we show how to use Python/pandas to load data stored in comma separated value (CSV) format. The data are stored on the web - they represent the GDP (gross domestic product) of each country in the world for a number of years. \n",
    "\n",
    "We want to find out which are the richest countries and how the wealth of New Zealand increased in the past years compared to Australia.\n",
    "\n",
    "The steps are the following:\n",
    "\n",
    " * read the data\n",
    " * select the countries that have a GDP larger than USD 50,000\n",
    " "
   ]
  },
  {
   "cell_type": "code",
   "execution_count": 1,
   "metadata": {
    "collapsed": true
   },
   "outputs": [],
   "source": [
    "# Access the pandas package to do data analysis. \n",
    "# A package is a set of tools designed to fulfil specific tasks, in this case data analysis.\n",
    "# All pandas functions X (for instance read_csv) will have to be access as \"pandas.X\"\n",
    "import pandas\n",
    "\n",
    "# the data are on web, we'll fetch them and read them in one command. Note that the command may take a few seconds \n",
    "# to execute... We call the data \"data\", but we could call them anything we want.\n",
    "url = 'http://manage.hdx.rwlabs.org/hdx/api/exporter/indicator/csv/PSE030/source/world-bank/fromYear/1950/toYear/0/language/en/PSE030_Baseline.csv'\n",
    "data = pandas.read_csv(url)\n"
   ]
  },
  {
   "cell_type": "code",
   "execution_count": 4,
   "metadata": {
    "collapsed": false
   },
   "outputs": [
    {
     "data": {
      "text/html": [
       "<div>\n",
       "<table border=\"1\" class=\"dataframe\">\n",
       "  <thead>\n",
       "    <tr style=\"text-align: right;\">\n",
       "      <th></th>\n",
       "      <th>Country code</th>\n",
       "      <th>Country name</th>\n",
       "      <th>2013</th>\n",
       "      <th>2012</th>\n",
       "      <th>2011</th>\n",
       "      <th>2010</th>\n",
       "      <th>2009</th>\n",
       "      <th>2008</th>\n",
       "      <th>2007</th>\n",
       "      <th>2006</th>\n",
       "      <th>...</th>\n",
       "      <th>1989</th>\n",
       "      <th>1988</th>\n",
       "      <th>1987</th>\n",
       "      <th>1986</th>\n",
       "      <th>1985</th>\n",
       "      <th>1984</th>\n",
       "      <th>1983</th>\n",
       "      <th>1982</th>\n",
       "      <th>1981</th>\n",
       "      <th>1980</th>\n",
       "    </tr>\n",
       "  </thead>\n",
       "  <tbody>\n",
       "    <tr>\n",
       "      <th>0</th>\n",
       "      <td>ABW</td>\n",
       "      <td>ARUBA</td>\n",
       "      <td>NaN</td>\n",
       "      <td>NaN</td>\n",
       "      <td>36016.483757</td>\n",
       "      <td>NaN</td>\n",
       "      <td>NaN</td>\n",
       "      <td>NaN</td>\n",
       "      <td>NaN</td>\n",
       "      <td>NaN</td>\n",
       "      <td>...</td>\n",
       "      <td>NaN</td>\n",
       "      <td>NaN</td>\n",
       "      <td>NaN</td>\n",
       "      <td>NaN</td>\n",
       "      <td>NaN</td>\n",
       "      <td>NaN</td>\n",
       "      <td>NaN</td>\n",
       "      <td>NaN</td>\n",
       "      <td>NaN</td>\n",
       "      <td>NaN</td>\n",
       "    </tr>\n",
       "    <tr>\n",
       "      <th>1</th>\n",
       "      <td>AFG</td>\n",
       "      <td>AFGHANISTAN</td>\n",
       "      <td>1946.193806</td>\n",
       "      <td>1927.138767</td>\n",
       "      <td>1695.153436</td>\n",
       "      <td>1604.191457</td>\n",
       "      <td>1497.884256</td>\n",
       "      <td>1258.739944</td>\n",
       "      <td>1222.764099</td>\n",
       "      <td>1076.461378</td>\n",
       "      <td>...</td>\n",
       "      <td>NaN</td>\n",
       "      <td>NaN</td>\n",
       "      <td>NaN</td>\n",
       "      <td>NaN</td>\n",
       "      <td>NaN</td>\n",
       "      <td>NaN</td>\n",
       "      <td>NaN</td>\n",
       "      <td>NaN</td>\n",
       "      <td>NaN</td>\n",
       "      <td>NaN</td>\n",
       "    </tr>\n",
       "    <tr>\n",
       "      <th>2</th>\n",
       "      <td>AGO</td>\n",
       "      <td>ANGOLA</td>\n",
       "      <td>7736.174682</td>\n",
       "      <td>7360.598595</td>\n",
       "      <td>7094.084302</td>\n",
       "      <td>6904.562607</td>\n",
       "      <td>6813.103048</td>\n",
       "      <td>6821.202994</td>\n",
       "      <td>6079.390171</td>\n",
       "      <td>4996.766535</td>\n",
       "      <td>...</td>\n",
       "      <td>2220.008106</td>\n",
       "      <td>2185.987078</td>\n",
       "      <td>2049.995372</td>\n",
       "      <td>1893.418283</td>\n",
       "      <td>1852.653900</td>\n",
       "      <td>NaN</td>\n",
       "      <td>NaN</td>\n",
       "      <td>NaN</td>\n",
       "      <td>NaN</td>\n",
       "      <td>NaN</td>\n",
       "    </tr>\n",
       "    <tr>\n",
       "      <th>3</th>\n",
       "      <td>ALB</td>\n",
       "      <td>ALBANIA</td>\n",
       "      <td>9930.943226</td>\n",
       "      <td>9666.728238</td>\n",
       "      <td>9640.130216</td>\n",
       "      <td>9297.492753</td>\n",
       "      <td>9345.093762</td>\n",
       "      <td>8769.117670</td>\n",
       "      <td>7659.173527</td>\n",
       "      <td>7181.094192</td>\n",
       "      <td>...</td>\n",
       "      <td>2907.447872</td>\n",
       "      <td>2603.009290</td>\n",
       "      <td>2618.290977</td>\n",
       "      <td>2636.355222</td>\n",
       "      <td>2507.940163</td>\n",
       "      <td>2452.070866</td>\n",
       "      <td>2451.231704</td>\n",
       "      <td>2386.304685</td>\n",
       "      <td>2235.225563</td>\n",
       "      <td>1978.272001</td>\n",
       "    </tr>\n",
       "    <tr>\n",
       "      <th>4</th>\n",
       "      <td>ARE</td>\n",
       "      <td>UNITED ARAB EMIRATES</td>\n",
       "      <td>NaN</td>\n",
       "      <td>59845.256817</td>\n",
       "      <td>56376.769923</td>\n",
       "      <td>55764.873251</td>\n",
       "      <td>59291.103838</td>\n",
       "      <td>70133.152975</td>\n",
       "      <td>78193.619487</td>\n",
       "      <td>87766.147264</td>\n",
       "      <td>...</td>\n",
       "      <td>45794.509345</td>\n",
       "      <td>41676.568915</td>\n",
       "      <td>43933.739790</td>\n",
       "      <td>43829.675785</td>\n",
       "      <td>53393.942593</td>\n",
       "      <td>56685.289105</td>\n",
       "      <td>55199.496976</td>\n",
       "      <td>58620.029648</td>\n",
       "      <td>62769.494553</td>\n",
       "      <td>58933.465467</td>\n",
       "    </tr>\n",
       "  </tbody>\n",
       "</table>\n",
       "<p>5 rows × 36 columns</p>\n",
       "</div>"
      ],
      "text/plain": [
       "  Country code          Country name         2013          2012          2011  \\\n",
       "0          ABW                 ARUBA          NaN           NaN  36016.483757   \n",
       "1          AFG           AFGHANISTAN  1946.193806   1927.138767   1695.153436   \n",
       "2          AGO                ANGOLA  7736.174682   7360.598595   7094.084302   \n",
       "3          ALB               ALBANIA  9930.943226   9666.728238   9640.130216   \n",
       "4          ARE  UNITED ARAB EMIRATES          NaN  59845.256817  56376.769923   \n",
       "\n",
       "           2010          2009          2008          2007          2006  \\\n",
       "0           NaN           NaN           NaN           NaN           NaN   \n",
       "1   1604.191457   1497.884256   1258.739944   1222.764099   1076.461378   \n",
       "2   6904.562607   6813.103048   6821.202994   6079.390171   4996.766535   \n",
       "3   9297.492753   9345.093762   8769.117670   7659.173527   7181.094192   \n",
       "4  55764.873251  59291.103838  70133.152975  78193.619487  87766.147264   \n",
       "\n",
       "       ...               1989          1988          1987          1986  \\\n",
       "0      ...                NaN           NaN           NaN           NaN   \n",
       "1      ...                NaN           NaN           NaN           NaN   \n",
       "2      ...        2220.008106   2185.987078   2049.995372   1893.418283   \n",
       "3      ...        2907.447872   2603.009290   2618.290977   2636.355222   \n",
       "4      ...       45794.509345  41676.568915  43933.739790  43829.675785   \n",
       "\n",
       "           1985          1984          1983          1982          1981  \\\n",
       "0           NaN           NaN           NaN           NaN           NaN   \n",
       "1           NaN           NaN           NaN           NaN           NaN   \n",
       "2   1852.653900           NaN           NaN           NaN           NaN   \n",
       "3   2507.940163   2452.070866   2451.231704   2386.304685   2235.225563   \n",
       "4  53393.942593  56685.289105  55199.496976  58620.029648  62769.494553   \n",
       "\n",
       "           1980  \n",
       "0           NaN  \n",
       "1           NaN  \n",
       "2           NaN  \n",
       "3   1978.272001  \n",
       "4  58933.465467  \n",
       "\n",
       "[5 rows x 36 columns]"
      ]
     },
     "execution_count": 4,
     "metadata": {},
     "output_type": "execute_result"
    }
   ],
   "source": [
    "# A good way to check what's inside. The years span from 1980 to 2013. NaN refers to not-a-number or missing value. \n",
    "data.head()\n"
   ]
  },
  {
   "cell_type": "code",
   "execution_count": 7,
   "metadata": {
    "collapsed": false
   },
   "outputs": [
    {
     "data": {
      "text/plain": [
       "Index([u'Country code', u'Country name', u'2013', u'2012', u'2011', u'2010',\n",
       "       u'2009', u'2008', u'2007', u'2006', u'2005', u'2004', u'2003', u'2002',\n",
       "       u'2001', u'2000', u'1999', u'1998', u'1997', u'1996', u'1995', u'1994',\n",
       "       u'1993', u'1992', u'1991', u'1990', u'1989', u'1988', u'1987', u'1986',\n",
       "       u'1985', u'1984', u'1983', u'1982', u'1981', u'1980'],\n",
       "      dtype='object')"
      ]
     },
     "execution_count": 7,
     "metadata": {},
     "output_type": "execute_result"
    }
   ],
   "source": [
    "# Each column has a name. Names are represented as characters inside quotes. The u in front of each string\n",
    "# indicates unicode, which allows you to represent accent and other foreign characters (no need to worry about this).\n",
    "data.columns \n"
   ]
  },
  {
   "cell_type": "code",
   "execution_count": 8,
   "metadata": {
    "collapsed": false
   },
   "outputs": [
    {
     "name": "stdout",
     "output_type": "stream",
     "text": [
      "0               NaN\n",
      "1       1946.193806\n",
      "2       7736.174682\n",
      "3       9930.943226\n",
      "4               NaN\n",
      "5               NaN\n",
      "6       7776.286043\n",
      "7      21027.826640\n",
      "8      43202.367688\n",
      "9      45079.092211\n",
      "10     17143.109665\n",
      "11       771.715430\n",
      "12     41574.756309\n",
      "13      1790.753637\n",
      "14      1684.479651\n",
      "15      2948.014890\n",
      "16     15731.672624\n",
      "17     43850.939718\n",
      "18     23264.272211\n",
      "19      9535.539791\n",
      "20     17619.769656\n",
      "21      8486.898540\n",
      "22              NaN\n",
      "23      6131.061689\n",
      "24     15037.457469\n",
      "25              NaN\n",
      "26     71776.648012\n",
      "27      7404.736784\n",
      "28     15751.902206\n",
      "29       603.742960\n",
      "           ...     \n",
      "161    44658.231787\n",
      "162     6685.338117\n",
      "163    24587.485595\n",
      "164             NaN\n",
      "165     2088.591836\n",
      "166     1390.519711\n",
      "167    14393.530704\n",
      "168     2512.247566\n",
      "169    14004.160057\n",
      "170     2241.887680\n",
      "171     5304.206689\n",
      "172    30446.007539\n",
      "173    11124.496009\n",
      "174    18782.845752\n",
      "175     3645.157930\n",
      "176     2443.072231\n",
      "177     1674.285069\n",
      "178     8789.982001\n",
      "179    19594.369561\n",
      "180    53041.981406\n",
      "181     5167.927164\n",
      "182    10490.604167\n",
      "183    18198.370017\n",
      "184     5294.439869\n",
      "185     2990.916830\n",
      "186     5768.985769\n",
      "187     3959.291883\n",
      "188    12866.939794\n",
      "189     3925.462387\n",
      "190     1832.083244\n",
      "Name: 2013, dtype: float64\n"
     ]
    }
   ],
   "source": [
    "# We can access a subset of the data. If we say data['2013'] then this will show all the GDPs for the year 2013. \n",
    "print(data['2013'])"
   ]
  },
  {
   "cell_type": "code",
   "execution_count": 11,
   "metadata": {
    "collapsed": false
   },
   "outputs": [
    {
     "name": "stdout",
     "output_type": "stream",
     "text": [
      "    Country code       Country name           2013           2012  \\\n",
      "26           BRN  BRUNEI DARUSSALAM   71776.648012   72953.867981   \n",
      "31           CHE        SWITZERLAND   56950.024339   55915.499995   \n",
      "73           HKG          HONG KONG   53215.937373   51176.192575   \n",
      "105          LUX          LUXEMBURG   91047.588883   91849.920215   \n",
      "107          MAC              MACAU  142599.240319  127742.698900   \n",
      "129          NOR             NORWAY   64405.712221   65103.698037   \n",
      "144          QAT              QATAR  136727.253610  134289.773572   \n",
      "148          SAU       SAUDI ARABIA   53644.126925   52042.469058   \n",
      "151          SGP          SINGAPORE   78763.384944   75951.670486   \n",
      "180          USA      UNITED STATES   53041.981406   51495.874845   \n",
      "\n",
      "              2011           2010           2009           2008  \\\n",
      "26    71991.084985   69208.221059   67680.421821   69481.850420   \n",
      "31    54550.689366   51321.509695   49919.243232   50438.762948   \n",
      "73    50086.037004   47147.914379   43946.103092   44798.099193   \n",
      "105   91469.087687   84200.569282   79945.694913   84733.555096   \n",
      "107  117187.626261   96726.299870   76814.672070   77010.904276   \n",
      "129   61811.058306   57732.583430   55090.019191   61342.099994   \n",
      "144  133733.867707  126613.791256  119869.247182  122250.184201   \n",
      "148   49229.772534   45247.384847   42323.535334   41910.812455   \n",
      "151   74593.942994   70364.208076   61396.687679   63163.171193   \n",
      "180   49803.492855   48377.393846   47001.428219   48401.486533   \n",
      "\n",
      "              2007           2006      ...               1989          1988  \\\n",
      "26    70713.708823   70008.501071      ...       35018.374273  35096.004718   \n",
      "31    47409.464919   43377.775902      ...       23722.823314  22086.245777   \n",
      "73    43292.645317   39949.670559      ...       16148.734004  15374.823652   \n",
      "105   81022.579601   77104.757706      ...       28094.360724  24894.600559   \n",
      "107   75197.283609   65853.641225      ...       14655.730200  13952.569167   \n",
      "129   55812.242256   53871.163644      ...       16920.502744  16208.843152   \n",
      "144  120210.170877  118198.731574      ...                NaN           NaN   \n",
      "148   38581.336051   36214.546927      ...       12775.196123  12757.922217   \n",
      "151   64206.819606   59754.669902      ...       16578.155747  14927.120615   \n",
      "180   48061.421472   46437.107334      ...       22039.227126  20703.152160   \n",
      "\n",
      "             1987          1986          1985          1984          1983  \\\n",
      "26   34510.095723  33808.530347  34963.274511  35418.127592  34891.340644   \n",
      "31   20823.487193  20040.048967  19344.488084  18186.183491  17077.187202   \n",
      "73   13782.878826  11949.245695  10656.266217  10373.609036   9181.171436   \n",
      "105  22347.018318  21021.062876  18778.904142  17761.792926  16138.015933   \n",
      "107  13022.906051  11550.010837  11052.815958  11121.916636  10315.881360   \n",
      "129  15779.214549  15132.292568  14277.745473  13189.993664  12038.886963   \n",
      "144           NaN           NaN           NaN           NaN           NaN   \n",
      "148  11846.036212  12511.737430  12210.778807  13054.130540  13755.642446   \n",
      "151  13318.997819  11861.031215  11441.613237  11191.544242  10100.271558   \n",
      "180  19393.781806  18427.288211  17588.809872  16539.383017  15000.085546   \n",
      "\n",
      "             1982          1981          1980  \n",
      "26   34352.599099  32074.157995  37729.651987  \n",
      "31   16393.220947  15748.539796  14249.813509  \n",
      "73    8461.317135   7868.083424   6740.547608  \n",
      "105  15077.405505  14064.095019  12968.321630  \n",
      "107   9393.016880           NaN           NaN  \n",
      "129  11186.631875  10569.783113   9549.564616  \n",
      "144           NaN           NaN           NaN  \n",
      "148  15336.130407  17326.738083  16118.288915  \n",
      "151   9064.166493   8329.555079   7217.146768  \n",
      "180  13932.678362  13526.186886  12179.557707  \n",
      "\n",
      "[10 rows x 36 columns]\n"
     ]
    }
   ],
   "source": [
    "# This is where things get interesting. We want to create a new table called richCountries that contains\n",
    "# only the countries that have a GDP > 50,000. To do so we need to select all the rows of the table where the\n",
    "# '2013' column has a number larger than 50000. data.loc[...] means get the rows that \n",
    "richCountries = data.loc[ data['2013'] > 50000 ]\n",
    "print(richCountries)\n"
   ]
  },
  {
   "cell_type": "markdown",
   "metadata": {},
   "source": [
    "richCountriesSorted = richCountries.sort_values(by='2013', ascending=False)\n",
    "print(richCountriesSorted)"
   ]
  },
  {
   "cell_type": "code",
   "execution_count": 14,
   "metadata": {
    "collapsed": false
   },
   "outputs": [
    {
     "name": "stdout",
     "output_type": "stream",
     "text": [
      "MACAU 142599.240319212\n",
      "QATAR 136727.25361016698\n",
      "LUXEMBURG 91047.5888834933\n",
      "SINGAPORE 78763.3849443771\n",
      "BRUNEI DARUSSALAM 71776.6480123078\n",
      "NORWAY 64405.7122213084\n",
      "SWITZERLAND 56950.02433891941\n",
      "SAUDI ARABIA 53644.126925009805\n",
      "HONG KONG 53215.9373734741\n",
      "UNITED STATES 53041.98140556231\n"
     ]
    }
   ],
   "source": [
    "for row in richCountriesSorted.iterrows():\n",
    "    print(row[1]['Country name'], row[1]['2013'])"
   ]
  },
  {
   "cell_type": "code",
   "execution_count": 22,
   "metadata": {
    "collapsed": false
   },
   "outputs": [
    {
     "name": "stdout",
     "output_type": "stream",
     "text": [
      "Country             \t\t\tGDP per capita US $\n",
      "==================================================\n",
      "MACAU               \t\t\t    142599\n",
      "QATAR               \t\t\t    136727\n",
      "LUXEMBURG           \t\t\t     91048\n",
      "SINGAPORE           \t\t\t     78763\n",
      "BRUNEI DARUSSALAM   \t\t\t     71777\n",
      "NORWAY              \t\t\t     64406\n",
      "SWITZERLAND         \t\t\t     56950\n",
      "SAUDI ARABIA        \t\t\t     53644\n",
      "HONG KONG           \t\t\t     53216\n",
      "UNITED STATES       \t\t\t     53042\n"
     ]
    }
   ],
   "source": [
    "print('{0:20s}\\t\\t\\t{1:s}'.format('Country', 'GDP per capita US $'))\n",
    "print('='*50)\n",
    "for row in richCountriesSorted.iterrows():\n",
    "    str = '{0:20s}\\t\\t\\t{1:10.0f}'.format(row[1]['Country name'], row[1]['2013'])\n",
    "    print(str)"
   ]
  },
  {
   "cell_type": "code",
   "execution_count": 24,
   "metadata": {
    "collapsed": false
   },
   "outputs": [
    {
     "data": {
      "text/plain": [
       "<matplotlib.text.Text at 0x87b72b0>"
      ]
     },
     "execution_count": 24,
     "metadata": {},
     "output_type": "execute_result"
    },
    {
     "data": {
      "image/png": "[encoded data removed]",
      "text/plain": [
       "<matplotlib.figure.Figure at 0x41fa710>"
      ]
     },
     "metadata": {},
     "output_type": "display_data"
    }
   ],
   "source": [
    "%matplotlib inline\n",
    "from matplotlib import pyplot\n",
    "pyplot.hist(richCountriesSorted['2013'])\n",
    "pyplot.title('GDP of the richest countries in US$')\n",
    "pyplot.xlabel('GDP per capita')\n",
    "pyplot.ylabel('number of countries')"
   ]
  },
  {
   "cell_type": "code",
   "execution_count": 37,
   "metadata": {
    "collapsed": false
   },
   "outputs": [
    {
     "name": "stdout",
     "output_type": "stream",
     "text": [
      "years =  ['2013', '2012', '2011', '2010', '2009', '2008', '2007', '2006', '2005', '2004', '2003', '2002', '2001', '2000', '1999', '1998', '1997', '1996', '1995', '1994', '1993', '1992', '1991', '1990', '1989', '1988', '1987', '1986', '1985', '1984', '1983', '1982', '1981', '1980']\n",
      "GDPs =  [ 34731.56906569  32425.33910701  31836.65912456  30640.0282309\n",
      "  30114.32438695  29229.04382102  28866.47408065  27362.47889177\n",
      "  25469.08366219  24827.57316319  23740.96252966  23094.04534709\n",
      "  22308.46962188  21316.96727571  20374.17021471  19076.95448416\n",
      "  18854.42258515  18145.433915    17623.03443525  16776.12774633\n",
      "  15665.54555255  14695.21139939  14323.21453405  14697.59747363\n",
      "  14318.50623916  13768.61775569  13198.48032214  12875.62426943\n",
      "  12330.89567227  11946.66682361  11068.40241521  10506.7662605\n",
      "   9590.98429094   8526.03811314]\n"
     ]
    },
    {
     "data": {
      "text/plain": [
       "[<matplotlib.lines.Line2D at 0xab49cc0>,\n",
       " <matplotlib.lines.Line2D at 0xab49e80>]"
      ]
     },
     "execution_count": 37,
     "metadata": {},
     "output_type": "execute_result"
    },
    {
     "data": {
      "image/png": "[encoded data removed]",
      "text/plain": [
       "<matplotlib.figure.Figure at 0xaac8710>"
      ]
     },
     "metadata": {},
     "output_type": "display_data"
    }
   ],
   "source": [
    "nzGDP = data[ data['Country name'] == 'NEW ZEALAND' ]\n",
    "ozGDP = data[ data['Country name'] == 'AUSTRALIA' ]\n",
    "years = []\n",
    "for c in nzGDP.columns: \n",
    "    if c[0] == '2' or c[0] == '1':\n",
    "        years.append(c)\n",
    "print('years = ', years)\n",
    "import numpy\n",
    "nzgdp = numpy.array(nzGDP[years])[0]\n",
    "ozgdp = numpy.array(ozGDP[years])[0]\n",
    "print('GDPs = ', gdp)\n",
    "pyplot.plot(years, nzgdp, 'b-', years, ozgdp, 'r-')"
   ]
  },
  {
   "cell_type": "code",
   "execution_count": 34,
   "metadata": {
    "collapsed": false
   },
   "outputs": [
    {
     "name": "stdout",
     "output_type": "stream",
     "text": [
      "[ 7.11243127  1.84906331  3.90544971  1.74569363  3.02877019  1.25602365\n",
      "  5.49656044  7.43409247  2.58386309  4.57694431  2.80122938  3.52142365\n",
      "  4.65123548]\n"
     ]
    }
   ],
   "source": [
    "growthPerCent = 100 * (- gdp[1:] + gdp[:-1])/gdp[1:]\n",
    "print(growthPerCent)\n"
   ]
  },
  {
   "cell_type": "code",
   "execution_count": 35,
   "metadata": {
    "collapsed": false
   },
   "outputs": [
    {
     "data": {
      "text/plain": [
       "[<matplotlib.lines.Line2D at 0xaa8a160>]"
      ]
     },
     "execution_count": 35,
     "metadata": {},
     "output_type": "execute_result"
    },
    {
     "data": {
      "image/png": "[encoded data removed]",
      "text/plain": [
       "<matplotlib.figure.Figure at 0x8755908>"
      ]
     },
     "metadata": {},
     "output_type": "display_data"
    }
   ],
   "source": [
    "pyplot.plot(years[1:], growthPerCent)"
   ]
  }
 ],
 "metadata": {
  "anaconda-cloud": {},
  "kernelspec": {
   "display_name": "Python [default]",
   "language": "python",
   "name": "python2"
  },
  "language_info": {
   "codemirror_mode": {
    "name": "ipython",
    "version": 2
   },
   "file_extension": ".py",
   "mimetype": "text/x-python",
   "name": "python",
   "nbconvert_exporter": "python",
   "pygments_lexer": "ipython2",
   "version": "2.7.12"
  }
 },
 "nbformat": 4,
 "nbformat_minor": 0
}
