{
 "cells": [
  {
   "cell_type": "markdown",
   "metadata": {},
   "source": [
    "# Python is awesome"
   ]
  },
  {
   "cell_type": "code",
   "execution_count": 1,
   "metadata": {
    "collapsed": true
   },
   "outputs": [],
   "source": [
    "import pandas\n",
    "url = 'http://manage.hdx.rwlabs.org/hdx/api/exporter/indicator/csv/PSE030/source/world-bank/fromYear/1950/toYear/0/language/en/PSE030_Baseline.csv'\n",
    "data = pandas.io.parsers.read_csv(url)\n"
   ]
  },
  {
   "cell_type": "code",
   "execution_count": 2,
   "metadata": {
    "collapsed": false
   },
   "outputs": [
    {
     "name": "stdout",
     "output_type": "stream",
     "text": [
      "    Country code                      Country name          2013  \\\n",
      "0            ABW                             ARUBA           NaN   \n",
      "1            AFG                       AFGHANISTAN   1946.193806   \n",
      "2            AGO                            ANGOLA   7736.174682   \n",
      "3            ALB                           ALBANIA   9930.943226   \n",
      "4            ARE              UNITED ARAB EMIRATES           NaN   \n",
      "5            ARG                         ARGENTINA           NaN   \n",
      "6            ARM                           ARMENIA   7776.286043   \n",
      "7            ATG               ANTIGUA AND BARBUDA  21027.826640   \n",
      "8            AUS                         AUSTRALIA  43202.367688   \n",
      "9            AUT                           AUSTRIA  45079.092211   \n",
      "10           AZE                        AZERBAIJAN  17143.109665   \n",
      "11           BDI                           BURUNDI    771.715430   \n",
      "12           BEL                           BELGIUM  41574.756309   \n",
      "13           BEN                             BENIN   1790.753637   \n",
      "14           BFA                      BURKINA FASO   1684.479651   \n",
      "15           BGD                        BANGLADESH   2948.014890   \n",
      "16           BGR                          BULGARIA  15731.672624   \n",
      "17           BHR                           BAHRAIN  43850.939718   \n",
      "18           BHS                           BAHAMAS  23264.272211   \n",
      "19           BIH            BOSNIA AND HERZEGOWINA   9535.539791   \n",
      "20           BLR                           BELARUS  17619.769656   \n",
      "21           BLZ                            BELIZE   8486.898540   \n",
      "22           BMU                           BERMUDA           NaN   \n",
      "23           BOL                           BOLIVIA   6131.061689   \n",
      "24           BRA                            BRAZIL  15037.457469   \n",
      "25           BRB                          BARBADOS           NaN   \n",
      "26           BRN                 BRUNEI DARUSSALAM  71776.648012   \n",
      "27           BTN                            BHUTAN   7404.736784   \n",
      "28           BWA                          BOTSWANA  15751.902206   \n",
      "29           CAF          CENTRAL AFRICAN REPUBLIC    603.742960   \n",
      "..           ...                               ...           ...   \n",
      "161          SWE                            SWEDEN  44658.231787   \n",
      "162          SWZ                         SWAZILAND   6685.338117   \n",
      "163          SYC                        SEYCHELLES  24587.485595   \n",
      "164          SYR              SYRIAN ARAB REPUBLIC           NaN   \n",
      "165          TCD                              CHAD   2088.591836   \n",
      "166          TGO                              TOGO   1390.519711   \n",
      "167          THA                          THAILAND  14393.530704   \n",
      "168          TJK                        TAJIKISTAN   2512.247566   \n",
      "169          TKM                      TURKMENISTAN  14004.160057   \n",
      "170          TLS                        EAST TIMOR   2241.887680   \n",
      "171          TON                             TONGA   5304.206689   \n",
      "172          TTO               TRINIDAD AND TOBAGO  30446.007539   \n",
      "173          TUN                           TUNISIA  11124.496009   \n",
      "174          TUR                            TURKEY  18782.845752   \n",
      "175          TUV                            TUVALU   3645.157930   \n",
      "176          TZA      TANZANIA, UNITED REPUBLIC OF   2443.072231   \n",
      "177          UGA                            UGANDA   1674.285069   \n",
      "178          UKR                           UKRAINE   8789.982001   \n",
      "179          URY                           URUGUAY  19594.369561   \n",
      "180          USA                     UNITED STATES  53041.981406   \n",
      "181          UZB                        UZBEKISTAN   5167.927164   \n",
      "182          VCT  SAINT VINCENT AND THE GRENADINES  10490.604167   \n",
      "183          VEN                         VENEZUELA  18198.370017   \n",
      "184          VNM                          VIET NAM   5294.439869   \n",
      "185          VUT                           VANUATU   2990.916830   \n",
      "186          WSM                             SAMOA   5768.985769   \n",
      "187          YEM                             YEMEN   3959.291883   \n",
      "188          ZAF                      SOUTH AFRICA  12866.939794   \n",
      "189          ZMB                            ZAMBIA   3925.462387   \n",
      "190          ZWE                          ZIMBABWE   1832.083244   \n",
      "\n",
      "             2012          2011          2010          2009          2008  \\\n",
      "0             NaN  36016.483757           NaN           NaN           NaN   \n",
      "1     1927.138767   1695.153436   1604.191457   1497.884256   1258.739944   \n",
      "2     7360.598595   7094.084302   6904.562607   6813.103048   6821.202994   \n",
      "3     9666.728238   9640.130216   9297.492753   9345.093762   8769.117670   \n",
      "4    59845.256817  56376.769923  55764.873251  59291.103838  70133.152975   \n",
      "5             NaN           NaN           NaN           NaN           NaN   \n",
      "6     7421.823295   6812.351956   6376.326219   6153.829672   7089.767500   \n",
      "7    20947.549920  19987.924139  20151.493171  21670.577230  24715.443684   \n",
      "8    43011.369843  41705.989885  39086.327232  40192.726739  37494.593400   \n",
      "9    44872.640824  44028.772618  41804.223061  40633.384215  41151.585043   \n",
      "10   16174.102884  15754.152363  15627.747776  14899.959629  13795.344315   \n",
      "11     750.101696    731.329864    710.628836    699.605628    694.389878   \n",
      "12   41406.066818  40954.064280  39211.336579  37740.972994  37953.794520   \n",
      "13    1715.621853   1643.310118   1603.462930   1588.668875   1581.123836   \n",
      "14    1601.213463   1485.038088   1404.537166   1317.205451   1308.211212   \n",
      "15    2773.663582   2588.500451   2409.548511   2279.203692   2175.075438   \n",
      "16   15671.877675  15278.438478  14690.492141  14409.644506  14565.908848   \n",
      "17   41465.086402  40083.377867  39732.909485  39514.623034  40821.150600   \n",
      "18   23102.629314  22807.301711  22468.542211  22230.401412  23424.116055   \n",
      "19    9356.481985   9248.094595   8746.080609   8488.886111   8569.024904   \n",
      "20   17211.136847  16603.389530  15385.599226  14082.019388  13913.276957   \n",
      "21    8436.070683   8178.016964   8042.980224   7883.581483   7964.229894   \n",
      "22   53056.437761  54984.510395  55254.716736  55318.123343  58269.850366   \n",
      "23    5752.101861   5461.752632   5172.147977   4987.139610   4864.980475   \n",
      "24   14580.859436  14300.740659  13759.420066  12752.801975  12808.962601   \n",
      "25   15573.993184  15374.213486  15025.026884  14879.283694  15476.560875   \n",
      "26   72953.867981  71991.084985  69208.221059  67680.421821  69481.850420   \n",
      "27    7266.850382   6909.268833   6383.762699   5743.635316   5438.611893   \n",
      "28   14792.470144  14050.704592  13079.288876  12005.775173  13045.657287   \n",
      "29     948.251481    912.754029    882.904458    833.979821    774.513913   \n",
      "..            ...           ...           ...           ...           ...   \n",
      "161  43869.384370  43709.211454  41727.176120  39669.936873  41880.840772   \n",
      "162   6505.314190   6366.949921   6379.988416   6289.892825   6269.126833   \n",
      "163  23239.589313  22424.714813  19831.577577  19015.593628  19153.155750   \n",
      "164   5435.559252           NaN   4996.331466   4891.326463   4728.369915   \n",
      "165   2039.444344   1896.032948   1913.050960   1715.506698   1683.651704   \n",
      "166   1337.579129   1273.291755   1220.821967   1190.190246   1170.743992   \n",
      "167  13983.385198  12798.028392  12562.432667  11532.905965  11731.960481   \n",
      "168   2362.077961   2212.064860   2067.619449   1964.250114   1921.968688   \n",
      "169  12684.257949  11360.511048   9828.807554   9004.476023   8525.307239   \n",
      "170   2076.437079   1939.614423   1741.196171   1598.638821   1427.212155   \n",
      "171   5219.364910   5102.893940   4880.890286   4690.752635   4534.806837   \n",
      "172  29609.108385  28743.435489  28728.157192  28440.670478  29650.549568   \n",
      "173  10799.945724  10235.033370  10200.397987   9860.222484   9543.618523   \n",
      "174  18221.126514  17908.128824  16193.371514  14659.952083  15177.525974   \n",
      "175   3551.436894   3488.248359   3156.776801   3212.261032   3341.790083   \n",
      "176   2312.768401   2227.140733   2083.982291   1994.788495   1934.789341   \n",
      "177   1651.681209   1606.894710   1484.572317   1442.137895   1379.694712   \n",
      "178   8482.250981   8295.169171   7697.983949   7269.287049   8427.809653   \n",
      "179  18558.296514  17644.976479  16160.788112  14777.979773  14374.919174   \n",
      "180  51495.874845  49803.492855  48377.393846  47001.428219  48401.486533   \n",
      "181   4789.180456   4412.474193   4100.520135   3840.401363   3584.837041   \n",
      "182  10167.602554   9874.256042   9724.975344   9947.834606  10090.067436   \n",
      "183  17959.897909  16959.844296  16202.142156  16509.304340  17200.511665   \n",
      "184   5000.712149   4716.976200   4395.550146   4123.273869   3922.838253   \n",
      "185   2954.452006   2916.421257   2888.825136   2874.482821   2827.269790   \n",
      "186   5795.039911   5653.735994   5307.703631   5255.849850   5515.780786   \n",
      "187   3832.733733   3760.671106   4442.543091   4349.740468   4244.814421   \n",
      "188  12597.194126  12290.894360  11842.527256  11520.933178  11776.793372   \n",
      "189   3743.943147   3557.378333   3381.059673   3120.802502   2918.869282   \n",
      "190   1781.292231   1625.911857   1454.228523   1308.700312   1235.199402   \n",
      "\n",
      "             2007          2006      ...               1989          1988  \\\n",
      "0             NaN           NaN      ...                NaN           NaN   \n",
      "1     1222.764099   1076.461378      ...                NaN           NaN   \n",
      "2     6079.390171   4996.766535      ...        2220.008106   2185.987078   \n",
      "3     7659.173527   7181.094192      ...        2907.447872   2603.009290   \n",
      "4    78193.619487  87766.147264      ...       45794.509345  41676.568915   \n",
      "5             NaN  12033.897511      ...        5395.332092   5702.002059   \n",
      "6     6479.643805   5524.415411      ...                NaN           NaN   \n",
      "7    24503.718287  22039.727933      ...        9932.811390   8967.387329   \n",
      "8    36555.777542  34325.017574      ...       16085.768617  14959.866905   \n",
      "9    39238.303198  37649.528977      ...       17937.345603  16711.284262   \n",
      "10   12477.320228   9829.633776      ...                NaN           NaN   \n",
      "11     671.555387    646.417177      ...         476.223474    467.285351   \n",
      "12   36621.090646  35169.031359      ...       17487.579776  16343.796050   \n",
      "13    1522.214247   1461.396834      ...         726.358361    743.775415   \n",
      "14    1249.271335   1203.680784      ...         510.071975    494.091800   \n",
      "15    2033.649768   1870.520036      ...         492.996963    475.012312   \n",
      "16   12984.903859  11229.434607      ...        5624.220454   5539.372943   \n",
      "17   40750.022017  39789.798870      ...       12223.955212  12138.597607   \n",
      "18   23960.228850  23445.725098      ...       20831.886064  19135.710513   \n",
      "19    7797.854807   7086.911934      ...                NaN           NaN   \n",
      "20   12345.041818  11021.493453      ...                NaN           NaN   \n",
      "21    7763.403571   7672.407900      ...        2710.561404   2367.456771   \n",
      "22   56640.696391  53946.521407      ...                NaN           NaN   \n",
      "23    4569.685675   4327.855389      ...        2051.344429   1950.047012   \n",
      "24   12060.068984  11181.592237      ...        5308.090676   5043.130517   \n",
      "25   15206.019354  14639.433644      ...       11814.260151  10879.257492   \n",
      "26   70713.708823  70008.501071      ...       35018.374273  35096.004718   \n",
      "27    5188.735363   4374.569289      ...        1144.140508   1050.579202   \n",
      "28   12437.335218  11259.678812      ...        4659.317649   4094.275718   \n",
      "29     745.315748    683.875849      ...         624.311720    601.907458   \n",
      "..            ...           ...      ...                ...           ...   \n",
      "161  40564.998452  37594.463956      ...       18514.555624  17472.796945   \n",
      "162   6108.187036   5834.123360      ...        2317.407996   2058.023443   \n",
      "163  19635.878735  17465.915086      ...        9101.085449   8014.625851   \n",
      "164   4604.416857   4403.705979      ...        1955.887725   2133.694045   \n",
      "165   1653.251722   1610.122791      ...         620.546356    588.807429   \n",
      "166   1152.980878   1126.653498      ...         669.613179    638.328666   \n",
      "167  11249.315338  10461.540355      ...        2516.666624   2196.310368   \n",
      "168   1787.893199   1651.808504      ...        2161.946864   2295.779808   \n",
      "169   7381.297727   6550.023237      ...        3228.658230   3335.259991   \n",
      "170   1246.262866   1107.117658      ...                NaN           NaN   \n",
      "171   4437.537333   4538.663256      ...        2122.062212   2042.835673   \n",
      "172  28272.483033  26420.721685      ...        7431.168126   7273.582274   \n",
      "173   9030.277584   8359.634501      ...        2950.555037   2830.647889   \n",
      "174  14040.023591  13049.324909      ...        3971.327788   3885.661562   \n",
      "175   3043.615527   2796.711231      ...                NaN           NaN   \n",
      "176   1851.561445   1732.682948      ...         576.035601    551.786103   \n",
      "177   1287.691984   1196.538493      ...         384.603425    361.339599   \n",
      "178   8038.748055   7213.516757      ...        6004.123798   5597.797389   \n",
      "179  13199.995532  12097.361420      ...        5098.600660   4891.443486   \n",
      "180  48061.421472  46437.107334      ...       22039.227126  20703.152160   \n",
      "181   3278.805403   2958.390926      ...        1400.865648   1340.950310   \n",
      "182   9749.125654   9203.398870      ...        3607.403549   3409.419249   \n",
      "183  16298.103122  14846.736914      ...        6417.699129   6941.238922   \n",
      "184   3681.297100   3383.513008      ...         610.571465    561.149107   \n",
      "185   2669.598297   2533.892793      ...        2214.396545   2154.359700   \n",
      "186   5392.712057   4972.141147      ...        1899.851685   1771.786950   \n",
      "187   4102.296732   3964.068275      ...                NaN           NaN   \n",
      "188  11354.848979  10642.665354      ...        5681.286543   5467.933734   \n",
      "189   2733.181019   2525.384325      ...         897.337234    897.243510   \n",
      "190   1476.955963   1495.007942      ...                NaN           NaN   \n",
      "\n",
      "             1987          1986          1985          1984          1983  \\\n",
      "0             NaN           NaN           NaN           NaN           NaN   \n",
      "1             NaN           NaN           NaN           NaN           NaN   \n",
      "2     2049.995372   1893.418283   1852.653900           NaN           NaN   \n",
      "3     2618.290977   2636.355222   2507.940163   2452.070866   2451.231704   \n",
      "4    43933.739790  43829.675785  53393.942593  56685.289105  55199.496976   \n",
      "5     5737.671889   5497.294044   5059.420927   5393.207642   5163.453287   \n",
      "6             NaN           NaN           NaN           NaN           NaN   \n",
      "7     8097.460722   7140.433283   6088.805332   5379.635927   4648.013151   \n",
      "8    14050.318537  13545.314561  12928.563239  12158.972884  11139.699412   \n",
      "9    15659.847331  15019.551743  14369.699575  13610.330015  13110.122115   \n",
      "10            NaN           NaN           NaN           NaN           NaN   \n",
      "11     444.590022    423.594306    414.861090    371.758096    368.740697   \n",
      "12   15133.402832  14383.083759  13821.597121  13197.992470  12413.893005   \n",
      "13     716.365785    727.650374    717.277587    666.445092    612.578791   \n",
      "14     463.297116    463.087451    430.589933    395.089429    397.735871   \n",
      "15     461.323327    443.778366    427.704207    412.945966    388.572933   \n",
      "16    4830.318379   4431.429097   4158.392721   3929.651351   3671.576624   \n",
      "17   11359.425988  10354.320328  10345.133737  10855.908231  10235.215777   \n",
      "18   18385.290948  17653.424188  17284.225104  16324.213433  14076.045933   \n",
      "19            NaN           NaN           NaN           NaN           NaN   \n",
      "20            NaN           NaN           NaN           NaN           NaN   \n",
      "21    2150.283436   1930.502015   1856.389494   1833.205603   1783.209009   \n",
      "22            NaN           NaN           NaN           NaN           NaN   \n",
      "23    1874.601470   1819.638541   1870.316030   1889.828977   1868.617095   \n",
      "24    4970.823629   4753.545441   4394.146660   4034.734307   3776.404383   \n",
      "25    9933.190720   9592.196462   8610.745329           NaN           NaN   \n",
      "26   34510.095723  33808.530347  34963.274511  35418.127592  34891.340644   \n",
      "27     998.088640    779.597520    704.516416    674.526335    638.096991   \n",
      "28    3416.939281   3062.972021   2860.991417   2678.491515   2459.284920   \n",
      "29     583.236632    608.620413    588.160797    563.570615    510.415126   \n",
      "..            ...           ...           ...           ...           ...   \n",
      "161  16526.312273  15570.904790  14841.200302  14116.097902  13059.679912   \n",
      "162   1948.680140   1725.271562   1565.606166   1518.007304   1423.675895   \n",
      "163   7405.529366   6908.748668   6756.195681   5986.554073   5575.918116   \n",
      "164   1877.259637   1847.150010   1963.715072   1857.293296   1932.106615   \n",
      "165    508.675130    522.160109    548.257159    448.907985    434.926756   \n",
      "166    596.274624    595.058244    592.423868    564.156329    534.520071   \n",
      "167   1906.891912   1723.179845   1626.925574   1536.405738   1426.065209   \n",
      "168   2011.876645   2045.126552   1996.695447           NaN           NaN   \n",
      "169   2976.817193           NaN           NaN           NaN           NaN   \n",
      "170           NaN           NaN           NaN           NaN           NaN   \n",
      "171   2018.005661   1908.859912   1832.189158   1670.512143   1583.613152   \n",
      "172   7374.495317   7578.144680   7749.574286   7946.383971   8247.732121   \n",
      "173   2794.907117   2610.063558   2673.336803   2531.358384   2353.009975   \n",
      "174   3746.698892   3389.677741   3161.775262   3006.792867   2777.104832   \n",
      "175           NaN           NaN           NaN           NaN           NaN   \n",
      "176           NaN           NaN           NaN           NaN           NaN   \n",
      "177    334.491326    324.022944    326.885581    339.144645    338.587986   \n",
      "178   5297.508120           NaN           NaN           NaN           NaN   \n",
      "179   4687.064949   4242.946832   3838.364415   3694.424414   3625.118333   \n",
      "180  19393.781806  18427.288211  17588.809872  16539.383017  15000.085546   \n",
      "181   1216.004930           NaN           NaN           NaN           NaN   \n",
      "182   2892.109680   2705.529909   2498.146760   2300.573016   2109.307668   \n",
      "183   6508.610770   6270.306715   5914.695834   5882.844959   5739.558507   \n",
      "184    528.417732    507.963334    494.710727           NaN           NaN   \n",
      "185   2168.526561   2219.961299   2224.647518   2187.035581   1967.543386   \n",
      "186   1741.642783   1688.366951   1570.766329   1473.626157   1410.180472   \n",
      "187           NaN           NaN           NaN           NaN           NaN   \n",
      "188   5193.422341   5066.666055   5083.708466   5124.916648   4823.306032   \n",
      "189    838.622976    816.411905    816.283213    803.207975    801.066249   \n",
      "190           NaN           NaN           NaN           NaN           NaN   \n",
      "\n",
      "             1982          1981          1980  \n",
      "0             NaN           NaN           NaN  \n",
      "1             NaN           NaN           NaN  \n",
      "2             NaN           NaN           NaN  \n",
      "3     2386.304685   2235.225563   1978.272001  \n",
      "4    58620.029648  62769.494553  58933.465467  \n",
      "5     4855.308602   4889.201863   4812.392778  \n",
      "6             NaN           NaN           NaN  \n",
      "7     4209.873481   3916.041597   3413.026195  \n",
      "8    10941.108957  10177.674631   9185.606082  \n",
      "9    12227.384880  11306.055771  10378.586352  \n",
      "10            NaN           NaN           NaN  \n",
      "11     352.010792    344.786232    288.769070  \n",
      "12   11903.473053  11150.478192  10223.252418  \n",
      "13     633.918692    601.140534    513.876079  \n",
      "14     391.011621    344.726041    309.513372  \n",
      "15     369.010535    348.949186    315.802341  \n",
      "16    3423.268463   3162.404894   2765.547474  \n",
      "17    9507.324197  10000.209026  10038.309425  \n",
      "18   13361.646517  12070.456147  12431.635445  \n",
      "19            NaN           NaN           NaN  \n",
      "20            NaN           NaN           NaN  \n",
      "21    1802.249649   1748.965236   1616.117636  \n",
      "22            NaN           NaN           NaN  \n",
      "23    1917.940798   1926.847547   1798.844563  \n",
      "24    3847.370097   3689.831659   3611.866649  \n",
      "25            NaN           NaN           NaN  \n",
      "26   34352.599099  32074.157995  37729.651987  \n",
      "27     564.661569    527.418296    434.973152  \n",
      "28    2163.451725   1882.945761   1636.719672  \n",
      "29     550.666730    496.498319    474.446656  \n",
      "..            ...           ...           ...  \n",
      "161  12345.030934  11505.454230  10553.496253  \n",
      "162   1393.795164   1336.184158   1097.342975  \n",
      "163   5445.553802   5293.887507   5100.878924  \n",
      "164   1898.607667   1815.906821   1570.508548  \n",
      "165    370.404687    338.965259    313.391348  \n",
      "166    564.351347    571.922778    558.974595  \n",
      "167   1323.465841   1206.822072   1062.769489  \n",
      "168           NaN           NaN           NaN  \n",
      "169           NaN           NaN           NaN  \n",
      "170           NaN           NaN           NaN  \n",
      "171   1495.211096   1348.873096           NaN  \n",
      "172   8878.955691   8176.064280   7261.890298  \n",
      "173   2218.782362   2157.523690   1919.683636  \n",
      "174   2604.522994   2426.418221   2165.290805  \n",
      "175           NaN           NaN           NaN  \n",
      "176           NaN           NaN           NaN  \n",
      "177    317.574560           NaN           NaN  \n",
      "178           NaN           NaN           NaN  \n",
      "179   3911.754835   4112.593300   3726.878406  \n",
      "180  13932.678362  13526.186886  12179.557707  \n",
      "181           NaN           NaN           NaN  \n",
      "182   1958.437811   1775.786079   1543.117233  \n",
      "183   5893.528590   5833.373942   5513.578926  \n",
      "184           NaN           NaN           NaN  \n",
      "185   1701.221503   1483.404365   1334.763386  \n",
      "186   1359.127638           NaN           NaN  \n",
      "187           NaN           NaN           NaN  \n",
      "188   4849.789630   4705.342115   4183.729111  \n",
      "189    811.226578    812.353809    722.530428  \n",
      "190           NaN           NaN           NaN  \n",
      "\n",
      "[191 rows x 36 columns]\n"
     ]
    }
   ],
   "source": [
    "print(data)\n"
   ]
  },
  {
   "cell_type": "code",
   "execution_count": 3,
   "metadata": {
    "collapsed": false
   },
   "outputs": [
    {
     "data": {
      "text/plain": [
       "Index(['Country code', 'Country name', '2013', '2012', '2011', '2010', '2009',\n",
       "       '2008', '2007', '2006', '2005', '2004', '2003', '2002', '2001', '2000',\n",
       "       '1999', '1998', '1997', '1996', '1995', '1994', '1993', '1992', '1991',\n",
       "       '1990', '1989', '1988', '1987', '1986', '1985', '1984', '1983', '1982',\n",
       "       '1981', '1980'],\n",
       "      dtype='object')"
      ]
     },
     "execution_count": 3,
     "metadata": {},
     "output_type": "execute_result"
    }
   ],
   "source": [
    "data.columns \n"
   ]
  },
  {
   "cell_type": "code",
   "execution_count": null,
   "metadata": {
    "collapsed": true
   },
   "outputs": [],
   "source": []
  },
  {
   "cell_type": "code",
   "execution_count": 6,
   "metadata": {
    "collapsed": false
   },
   "outputs": [
    {
     "name": "stdout",
     "output_type": "stream",
     "text": [
      "    Country code       Country name           2013           2012  \\\n",
      "26           BRN  BRUNEI DARUSSALAM   71776.648012   72953.867981   \n",
      "31           CHE        SWITZERLAND   56950.024339   55915.499995   \n",
      "73           HKG          HONG KONG   53215.937373   51176.192575   \n",
      "105          LUX          LUXEMBURG   91047.588883   91849.920215   \n",
      "107          MAC              MACAU  142599.240319  127742.698900   \n",
      "129          NOR             NORWAY   64405.712221   65103.698037   \n",
      "144          QAT              QATAR  136727.253610  134289.773572   \n",
      "148          SAU       SAUDI ARABIA   53644.126925   52042.469058   \n",
      "151          SGP          SINGAPORE   78763.384944   75951.670486   \n",
      "180          USA      UNITED STATES   53041.981406   51495.874845   \n",
      "\n",
      "              2011           2010           2009           2008  \\\n",
      "26    71991.084985   69208.221059   67680.421821   69481.850420   \n",
      "31    54550.689366   51321.509695   49919.243232   50438.762948   \n",
      "73    50086.037004   47147.914379   43946.103092   44798.099193   \n",
      "105   91469.087687   84200.569282   79945.694913   84733.555096   \n",
      "107  117187.626261   96726.299870   76814.672070   77010.904276   \n",
      "129   61811.058306   57732.583430   55090.019191   61342.099994   \n",
      "144  133733.867707  126613.791256  119869.247182  122250.184201   \n",
      "148   49229.772534   45247.384847   42323.535334   41910.812455   \n",
      "151   74593.942994   70364.208076   61396.687679   63163.171193   \n",
      "180   49803.492855   48377.393846   47001.428219   48401.486533   \n",
      "\n",
      "              2007           2006      ...               1989          1988  \\\n",
      "26    70713.708823   70008.501071      ...       35018.374273  35096.004718   \n",
      "31    47409.464919   43377.775902      ...       23722.823314  22086.245777   \n",
      "73    43292.645317   39949.670559      ...       16148.734004  15374.823652   \n",
      "105   81022.579601   77104.757706      ...       28094.360724  24894.600559   \n",
      "107   75197.283609   65853.641225      ...       14655.730200  13952.569167   \n",
      "129   55812.242256   53871.163644      ...       16920.502744  16208.843152   \n",
      "144  120210.170877  118198.731574      ...                NaN           NaN   \n",
      "148   38581.336051   36214.546927      ...       12775.196123  12757.922217   \n",
      "151   64206.819606   59754.669902      ...       16578.155747  14927.120615   \n",
      "180   48061.421472   46437.107334      ...       22039.227126  20703.152160   \n",
      "\n",
      "             1987          1986          1985          1984          1983  \\\n",
      "26   34510.095723  33808.530347  34963.274511  35418.127592  34891.340644   \n",
      "31   20823.487193  20040.048967  19344.488084  18186.183491  17077.187202   \n",
      "73   13782.878826  11949.245695  10656.266217  10373.609036   9181.171436   \n",
      "105  22347.018318  21021.062876  18778.904142  17761.792926  16138.015933   \n",
      "107  13022.906051  11550.010837  11052.815958  11121.916636  10315.881360   \n",
      "129  15779.214549  15132.292568  14277.745473  13189.993664  12038.886963   \n",
      "144           NaN           NaN           NaN           NaN           NaN   \n",
      "148  11846.036212  12511.737430  12210.778807  13054.130540  13755.642446   \n",
      "151  13318.997819  11861.031215  11441.613237  11191.544242  10100.271558   \n",
      "180  19393.781806  18427.288211  17588.809872  16539.383017  15000.085546   \n",
      "\n",
      "             1982          1981          1980  \n",
      "26   34352.599099  32074.157995  37729.651987  \n",
      "31   16393.220947  15748.539796  14249.813509  \n",
      "73    8461.317135   7868.083424   6740.547608  \n",
      "105  15077.405505  14064.095019  12968.321630  \n",
      "107   9393.016880           NaN           NaN  \n",
      "129  11186.631875  10569.783113   9549.564616  \n",
      "144           NaN           NaN           NaN  \n",
      "148  15336.130407  17326.738083  16118.288915  \n",
      "151   9064.166493   8329.555079   7217.146768  \n",
      "180  13932.678362  13526.186886  12179.557707  \n",
      "\n",
      "[10 rows x 36 columns]\n"
     ]
    }
   ],
   "source": [
    "richCountries = data[ data['2013'] > 50000 ]\n",
    "print(richCountries)\n"
   ]
  },
  {
   "cell_type": "markdown",
   "metadata": {},
   "source": [
    "richCountriesSorted = richCountries.sort_values(by='2013', ascending=False)\n",
    "print(richCountriesSorted)"
   ]
  },
  {
   "cell_type": "code",
   "execution_count": 14,
   "metadata": {
    "collapsed": false
   },
   "outputs": [
    {
     "name": "stdout",
     "output_type": "stream",
     "text": [
      "MACAU 142599.240319212\n",
      "QATAR 136727.25361016698\n",
      "LUXEMBURG 91047.5888834933\n",
      "SINGAPORE 78763.3849443771\n",
      "BRUNEI DARUSSALAM 71776.6480123078\n",
      "NORWAY 64405.7122213084\n",
      "SWITZERLAND 56950.02433891941\n",
      "SAUDI ARABIA 53644.126925009805\n",
      "HONG KONG 53215.9373734741\n",
      "UNITED STATES 53041.98140556231\n"
     ]
    }
   ],
   "source": [
    "for row in richCountriesSorted.iterrows():\n",
    "    print(row[1]['Country name'], row[1]['2013'])"
   ]
  },
  {
   "cell_type": "code",
   "execution_count": 22,
   "metadata": {
    "collapsed": false
   },
   "outputs": [
    {
     "name": "stdout",
     "output_type": "stream",
     "text": [
      "Country             \t\t\tGDP per capita US $\n",
      "==================================================\n",
      "MACAU               \t\t\t    142599\n",
      "QATAR               \t\t\t    136727\n",
      "LUXEMBURG           \t\t\t     91048\n",
      "SINGAPORE           \t\t\t     78763\n",
      "BRUNEI DARUSSALAM   \t\t\t     71777\n",
      "NORWAY              \t\t\t     64406\n",
      "SWITZERLAND         \t\t\t     56950\n",
      "SAUDI ARABIA        \t\t\t     53644\n",
      "HONG KONG           \t\t\t     53216\n",
      "UNITED STATES       \t\t\t     53042\n"
     ]
    }
   ],
   "source": [
    "print('{0:20s}\\t\\t\\t{1:s}'.format('Country', 'GDP per capita US $'))\n",
    "print('='*50)\n",
    "for row in richCountriesSorted.iterrows():\n",
    "    str = '{0:20s}\\t\\t\\t{1:10.0f}'.format(row[1]['Country name'], row[1]['2013'])\n",
    "    print(str)"
   ]
  },
  {
   "cell_type": "code",
   "execution_count": 24,
   "metadata": {
    "collapsed": false
   },
   "outputs": [
    {
     "data": {
      "text/plain": [
       "<matplotlib.text.Text at 0x87b72b0>"
      ]
     },
     "execution_count": 24,
     "metadata": {},
     "output_type": "execute_result"
    },
    {
     "data": {
      "image/png": "[encoded data removed]",
      "text/plain": [
       "<matplotlib.figure.Figure at 0x41fa710>"
      ]
     },
     "metadata": {},
     "output_type": "display_data"
    }
   ],
   "source": [
    "%matplotlib inline\n",
    "from matplotlib import pyplot\n",
    "pyplot.hist(richCountriesSorted['2013'])\n",
    "pyplot.title('GDP of the richest countries in US$')\n",
    "pyplot.xlabel('GDP per capita')\n",
    "pyplot.ylabel('number of countries')"
   ]
  },
  {
   "cell_type": "code",
   "execution_count": 37,
   "metadata": {
    "collapsed": false
   },
   "outputs": [
    {
     "name": "stdout",
     "output_type": "stream",
     "text": [
      "years =  ['2013', '2012', '2011', '2010', '2009', '2008', '2007', '2006', '2005', '2004', '2003', '2002', '2001', '2000', '1999', '1998', '1997', '1996', '1995', '1994', '1993', '1992', '1991', '1990', '1989', '1988', '1987', '1986', '1985', '1984', '1983', '1982', '1981', '1980']\n",
      "GDPs =  [ 34731.56906569  32425.33910701  31836.65912456  30640.0282309\n",
      "  30114.32438695  29229.04382102  28866.47408065  27362.47889177\n",
      "  25469.08366219  24827.57316319  23740.96252966  23094.04534709\n",
      "  22308.46962188  21316.96727571  20374.17021471  19076.95448416\n",
      "  18854.42258515  18145.433915    17623.03443525  16776.12774633\n",
      "  15665.54555255  14695.21139939  14323.21453405  14697.59747363\n",
      "  14318.50623916  13768.61775569  13198.48032214  12875.62426943\n",
      "  12330.89567227  11946.66682361  11068.40241521  10506.7662605\n",
      "   9590.98429094   8526.03811314]\n"
     ]
    },
    {
     "data": {
      "text/plain": [
       "[<matplotlib.lines.Line2D at 0xab49cc0>,\n",
       " <matplotlib.lines.Line2D at 0xab49e80>]"
      ]
     },
     "execution_count": 37,
     "metadata": {},
     "output_type": "execute_result"
    },
    {
     "data": {
      "image/png": "[encoded data removed]",
      "text/plain": [
       "<matplotlib.figure.Figure at 0xaac8710>"
      ]
     },
     "metadata": {},
     "output_type": "display_data"
    }
   ],
   "source": [
    "nzGDP = data[ data['Country name'] == 'NEW ZEALAND' ]\n",
    "ozGDP = data[ data['Country name'] == 'AUSTRALIA' ]\n",
    "years = []\n",
    "for c in nzGDP.columns: \n",
    "    if c[0] == '2' or c[0] == '1':\n",
    "        years.append(c)\n",
    "print('years = ', years)\n",
    "import numpy\n",
    "nzgdp = numpy.array(nzGDP[years])[0]\n",
    "ozgdp = numpy.array(ozGDP[years])[0]\n",
    "print('GDPs = ', gdp)\n",
    "pyplot.plot(years, nzgdp, 'b-', years, ozgdp, 'r-')"
   ]
  },
  {
   "cell_type": "code",
   "execution_count": 34,
   "metadata": {
    "collapsed": false
   },
   "outputs": [
    {
     "name": "stdout",
     "output_type": "stream",
     "text": [
      "[ 7.11243127  1.84906331  3.90544971  1.74569363  3.02877019  1.25602365\n",
      "  5.49656044  7.43409247  2.58386309  4.57694431  2.80122938  3.52142365\n",
      "  4.65123548]\n"
     ]
    }
   ],
   "source": [
    "growthPerCent = 100 * (- gdp[1:] + gdp[:-1])/gdp[1:]\n",
    "print(growthPerCent)\n"
   ]
  },
  {
   "cell_type": "code",
   "execution_count": 35,
   "metadata": {
    "collapsed": false
   },
   "outputs": [
    {
     "data": {
      "text/plain": [
       "[<matplotlib.lines.Line2D at 0xaa8a160>]"
      ]
     },
     "execution_count": 35,
     "metadata": {},
     "output_type": "execute_result"
    },
    {
     "data": {
      "image/png": "[encoded data removed]",
      "text/plain": [
       "<matplotlib.figure.Figure at 0x8755908>"
      ]
     },
     "metadata": {},
     "output_type": "display_data"
    }
   ],
   "source": [
    "pyplot.plot(years[1:], growthPerCent)"
   ]
  }
 ],
 "metadata": {
  "kernelspec": {
   "display_name": "Python [Root]",
   "language": "python",
   "name": "Python [Root]"
  },
  "language_info": {
   "codemirror_mode": {
    "name": "ipython",
    "version": 2
   },
   "file_extension": ".py",
   "mimetype": "text/x-python",
   "name": "python",
   "nbconvert_exporter": "python",
   "pygments_lexer": "ipython2",
   "version": "2.7.12"
  }
 },
 "nbformat": 4,
 "nbformat_minor": 0
}
